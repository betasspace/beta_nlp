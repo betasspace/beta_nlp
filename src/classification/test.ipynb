{
 "cells": [
  {
   "cell_type": "code",
   "execution_count": 4,
   "id": "0bff84f1-bd68-4d68-bba2-f06333c25185",
   "metadata": {},
   "outputs": [],
   "source": [
    "import torch\n",
    "import torch.nn as nn\n",
    "import torch.nn.functional as F\n",
    "import torchtext\n",
    "from torchtext.datasets import IMDB\n",
    "# pip install torchtext 安装指令\n",
    "from torchtext.datasets.imdb import NUM_LINES\n",
    "from torchtext.data import get_tokenizer\n",
    "from torchtext.vocab import build_vocab_from_iterator\n",
    "from torchtext.data.functional import to_map_style_dataset\n",
    "\n",
    "import sys\n",
    "import os\n",
    "import logging\n",
    "logging.basicConfig(\n",
    "    level=logging.WARN,\n",
    "    stream=sys.stdout,\n",
    "    format=\"%(asctime)s (%(module)s:%(lineno)d) %(levelname)s: %(message)s\",\n",
    ")"
   ]
  },
  {
   "cell_type": "code",
   "execution_count": 5,
   "id": "096f7726-cb31-42ff-84e3-374e69191951",
   "metadata": {},
   "outputs": [
    {
     "name": "stdout",
     "output_type": "stream",
     "text": [
      "单词表大小: 13351\n"
     ]
    }
   ],
   "source": [
    "\n",
    "# step2 构建IMDB DataLoader\n",
    "\n",
    "BATCH_SIZE = 64\n",
    "\n",
    "def yield_tokens(train_data_iter, tokenizer):\n",
    "    for i, sample in enumerate(train_data_iter):\n",
    "        label, comment = sample\n",
    "        yield tokenizer(comment)\n",
    "\n",
    "train_data_iter = IMDB(root='.data', split='train') # Dataset类型的对象\n",
    "tokenizer = get_tokenizer(\"basic_english\")\n",
    "vocab = build_vocab_from_iterator(yield_tokens(train_data_iter, tokenizer), min_freq=20, specials=[\"<unk>\"])\n",
    "vocab.set_default_index(0)\n",
    "print(f\"单词表大小: {len(vocab)}\")"
   ]
  },
  {
   "cell_type": "code",
   "execution_count": 15,
   "metadata": {},
   "outputs": [],
   "source": [
    "\n",
    "def collate_fn(batch):\n",
    "    \"\"\" 对DataLoader所生成的mini-batch进行后处理 \"\"\"\n",
    "    target = []\n",
    "    token_index = []\n",
    "    max_length = 0\n",
    "    for i, (label, comment) in enumerate(batch):\n",
    "        tokens = tokenizer(comment)\n",
    "\n",
    "        token_index.append(vocab(tokens))\n",
    "        if len(tokens) > max_length:\n",
    "            max_length = len(tokens)\n",
    "\n",
    "        target.append(label)\n",
    "\n",
    "    token_index = [index + [0]*(max_length-len(index)) for index in token_index]\n",
    "    return (torch.tensor(target).to(torch.int64), torch.tensor(token_index).to(torch.int32))\n"
   ]
  },
  {
   "cell_type": "code",
   "execution_count": 18,
   "id": "2d1538d3-a21f-460f-a3d6-e4f319a5860f",
   "metadata": {},
   "outputs": [
    {
     "name": "stdout",
     "output_type": "stream",
     "text": [
      "labels: {1: 12500, 2: 12500}\n"
     ]
    }
   ],
   "source": [
    "labels = {}\n",
    "for label, text in train_data_iter:\n",
    "    if label not in labels:\n",
    "        labels[label] = 1\n",
    "    else:\n",
    "        labels[label] += 1\n",
    "print(f\"labels: {labels}\")"
   ]
  },
  {
   "cell_type": "code",
   "execution_count": 16,
   "id": "270ac709-5ba8-4cbf-9558-50c10294acc8",
   "metadata": {},
   "outputs": [],
   "source": [
    "train_data_iter = IMDB(root='.data', split='train') # Dataset类型的对象\n",
    "train_data_loader = torch.utils.data.DataLoader(to_map_style_dataset(train_data_iter), batch_size=BATCH_SIZE, collate_fn=collate_fn, shuffle=True)\n",
    "\n"
   ]
  },
  {
   "cell_type": "code",
   "execution_count": 13,
   "metadata": {},
   "outputs": [
    {
     "name": "stdout",
     "output_type": "stream",
     "text": [
      "391\n"
     ]
    }
   ],
   "source": [
    "print(len(train_data_loader))"
   ]
  },
  {
   "cell_type": "code",
   "execution_count": 17,
   "metadata": {},
   "outputs": [
    {
     "name": "stdout",
     "output_type": "stream",
     "text": [
      "(tensor([2, 1, 2, 1, 1, 2, 2, 1, 1, 2, 2, 2, 1, 2, 2, 1, 1, 1, 1, 2, 1, 1, 2, 1,\n",
      "        2, 1, 1, 2, 1, 1, 2, 1, 2, 2, 1, 2, 2, 1, 2, 2, 2, 1, 2, 1, 2, 2, 1, 2,\n",
      "        1, 1, 2, 1, 2, 2, 2, 1, 1, 2, 1, 2, 1, 2, 2, 2]), tensor([[  12,  437,    7,  ...,    0,    0,    0],\n",
      "        [ 379,   28,   63,  ...,    0,    0,    0],\n",
      "        [ 412,   12,  192,  ...,    0,    0,    0],\n",
      "        ...,\n",
      "        [  59,   12,   16,  ...,    0,    0,    0],\n",
      "        [1181,   42,    5,  ...,    0,    0,    0],\n",
      "        [  59,   12,   16,  ...,    0,    0,    0]], dtype=torch.int32))\n",
      "(tensor([1, 2, 1, 1, 1, 2, 2, 2, 1, 2, 2, 1, 2, 1, 2, 2, 2, 1, 1, 1, 2, 1, 1, 2,\n",
      "        1, 1, 1, 1, 2, 2, 1, 2, 1, 2, 1, 2, 2, 2, 2, 1, 2, 2, 1, 1, 1, 1, 1, 2,\n",
      "        1, 2, 2, 1, 2, 1, 1, 1, 1, 1, 1, 1, 2, 2, 2, 2]), tensor([[  12,   48,  380,  ...,    0,    0,    0],\n",
      "        [  12,  124,   36,  ...,    0,    0,    0],\n",
      "        [ 522,  275,   19,  ...,    0,    0,    0],\n",
      "        ...,\n",
      "        [  12,   71,   44,  ...,    0,    0,    0],\n",
      "        [2064, 4733,   16,  ...,    0,    0,    0],\n",
      "        [  12,   16, 2109,  ...,    0,    0,    0]], dtype=torch.int32))\n",
      "(tensor([2, 1, 2, 2, 1, 1, 1, 2, 1, 1, 2, 2, 2, 2, 1, 1, 1, 2, 1, 2, 1, 2, 1, 1,\n",
      "        1, 2, 2, 2, 1, 2, 1, 1, 1, 2, 1, 1, 1, 2, 2, 2, 2, 2, 1, 2, 2, 1, 2, 2,\n",
      "        1, 2, 2, 2, 1, 2, 1, 1, 2, 1, 2, 2, 1, 1, 1, 1]), tensor([[  12,  109, 3908,  ...,    0,    0,    0],\n",
      "        [ 125,  255,  327,  ...,    0,    0,    0],\n",
      "        [  12,   48,  298,  ...,    0,    0,    0],\n",
      "        ...,\n",
      "        [  12,  512,   13,  ...,    0,    0,    0],\n",
      "        [  34,    6,    3,  ...,    0,    0,    0],\n",
      "        [  13,   20,   16,  ...,    0,    0,    0]], dtype=torch.int32))\n",
      "(tensor([2, 2, 2, 2, 2, 1, 2, 1, 2, 2, 1, 2, 1, 1, 2, 1, 2, 1, 1, 1, 1, 2, 2, 1,\n",
      "        1, 1, 1, 1, 2, 1, 1, 2, 2, 2, 1, 2, 1, 1, 2, 1, 2, 1, 2, 2, 1, 1, 2, 2,\n",
      "        1, 2, 2, 1, 1, 2, 2, 1, 2, 2, 1, 1, 2, 1, 2, 2]), tensor([[1571,    9,   28,  ...,    0,    0,    0],\n",
      "        [  12,  162,    8,  ...,    0,    0,    0],\n",
      "        [  13,  216,    8,  ...,    0,    0,    0],\n",
      "        ...,\n",
      "        [  12,   73,    5,  ...,    0,    0,    0],\n",
      "        [  81,  107,   72,  ...,    0,    0,    0],\n",
      "        [  13,   22, 1984,  ...,    0,    0,    0]], dtype=torch.int32))\n",
      "(tensor([2, 1, 1, 1, 1, 2, 2, 1, 1, 2, 1, 2, 1, 2, 1, 1, 1, 2, 1, 1, 1, 1, 1, 2,\n",
      "        2, 1, 2, 2, 2, 2, 2, 2, 1, 2, 2, 2, 1, 1, 1, 1, 2, 2, 1, 2, 1, 1, 1, 2,\n",
      "        1, 1, 2, 2, 2, 2, 2, 2, 2, 2, 1, 2, 2, 2, 1, 2]), tensor([[  12,    8,  145,  ...,    0,    0,    0],\n",
      "        [ 457,   63,    3,  ...,    0,    0,    0],\n",
      "        [7804,    3,   13,  ...,    0,    0,    0],\n",
      "        ...,\n",
      "        [  13,   16,    1,  ...,    0,    0,    0],\n",
      "        [  13,   22,  203,  ...,    0,    0,    0],\n",
      "        [  17,    5,    0,  ...,    0,    0,    0]], dtype=torch.int32))\n",
      "(tensor([2, 1, 1, 2, 2, 2, 1, 2, 2, 2, 1, 1, 2, 1, 2, 2, 2, 1, 1, 1, 1, 1, 2, 1,\n",
      "        2, 2, 2, 2, 2, 1, 2, 2, 1, 2, 1, 2, 1, 1, 2, 2, 2, 2, 2, 1, 1, 2, 2, 1,\n",
      "        2, 1, 2, 2, 1, 2, 1, 1, 1, 1, 2, 1, 2, 2, 2, 1]), tensor([[  62,  210, 1430,  ...,    0,    0,    0],\n",
      "        [  13,   22,    9,  ...,    0,    0,    0],\n",
      "        [ 122,    7,  376,  ...,    0,    0,    0],\n",
      "        ...,\n",
      "        [8052,    3, 2334,  ...,    0,    0,    0],\n",
      "        [  58,   78,   48,  ...,    0,    0,    0],\n",
      "        [   1, 9179, 1883,  ...,    0,    0,    0]], dtype=torch.int32))\n",
      "(tensor([1, 1, 1, 2, 2, 1, 1, 2, 1, 1, 2, 2, 1, 2, 2, 1, 1, 2, 2, 2, 2, 2, 1, 1,\n",
      "        2, 2, 1, 1, 1, 2, 1, 2, 2, 2, 2, 2, 2, 1, 1, 1, 1, 1, 2, 2, 2, 2, 2, 2,\n",
      "        1, 2, 2, 1, 1, 2, 1, 1, 1, 2, 1, 2, 2, 1, 1, 1]), tensor([[  13,    9,    5,  ...,    0,    0,    0],\n",
      "        [  50,   25,    8,  ...,    0,    0,    0],\n",
      "        [  12, 1188,   96,  ...,    0,    0,    0],\n",
      "        ...,\n",
      "        [  12,  454,  154,  ...,    0,    0,    0],\n",
      "        [ 945,    7, 2762,  ...,    0,    0,    0],\n",
      "        [  13,    9,   40,  ...,    0,    0,    0]], dtype=torch.int32))\n",
      "(tensor([2, 2, 1, 2, 2, 2, 1, 2, 2, 2, 1, 1, 1, 2, 2, 1, 1, 2, 1, 2, 2, 2, 2, 1,\n",
      "        2, 2, 2, 1, 1, 2, 2, 1, 2, 2, 1, 1, 2, 2, 2, 2, 1, 2, 2, 1, 1, 1, 2, 2,\n",
      "        2, 2, 1, 1, 2, 2, 2, 1, 2, 1, 2, 1, 2, 2, 2, 1]), tensor([[   12,   128,    12,  ...,     0,     0,     0],\n",
      "        [    1,  2131, 12585,  ...,     0,     0,     0],\n",
      "        [   38,    74,   146,  ...,     0,     0,     0],\n",
      "        ...,\n",
      "        [    7,    77,    13,  ...,     0,     0,     0],\n",
      "        [   64,  1562,  5247,  ...,     0,     0,     0],\n",
      "        [   24,  1214,     3,  ...,     0,     0,     0]], dtype=torch.int32))\n",
      "(tensor([2, 1, 1, 1, 1, 1, 1, 2, 2, 2, 1, 1, 1, 2, 2, 2, 1, 2, 2, 2, 1, 2, 2, 2,\n",
      "        2, 2, 1, 2, 2, 2, 1, 2, 2, 1, 2, 2, 1, 2, 1, 2, 2, 2, 1, 1, 2, 1, 2, 1,\n",
      "        2, 1, 1, 2, 2, 2, 2, 2, 1, 2, 1, 1, 1, 2, 2, 2]), tensor([[  12,   71,  454,  ...,    0,    0,    0],\n",
      "        [1292,   12,  481,  ...,    0,    0,    0],\n",
      "        [  13,   20, 2033,  ...,    0,    0,    0],\n",
      "        ...,\n",
      "        [  12,    8,  151,  ...,    0,    0,    0],\n",
      "        [1625,  614,   16,  ...,    0,    0,    0],\n",
      "        [  12,  208,   13,  ...,    0,    0,    0]], dtype=torch.int32))\n",
      "(tensor([2, 1, 2, 1, 1, 1, 2, 2, 2, 1, 2, 1, 2, 2, 1, 1, 1, 1, 1, 1, 1, 2, 2, 1,\n",
      "        2, 2, 2, 1, 2, 1, 1, 1, 2, 2, 1, 2, 1, 2, 2, 1, 2, 1, 2, 1, 1, 2, 2, 2,\n",
      "        1, 1, 1, 2, 1, 2, 2, 2, 2, 1, 2, 2, 2, 1, 2, 1]), tensor([[  13,   20,    9,  ...,    0,    0,    0],\n",
      "        [  12,  437,    7,  ...,    0,    0,    0],\n",
      "        [ 282,   77,  376,  ...,    0,    0,    0],\n",
      "        ...,\n",
      "        [  13, 1675,    0,  ...,    0,    0,    0],\n",
      "        [4999, 7600, 1128,  ...,    0,    0,    0],\n",
      "        [   1,   22,  511,  ...,    0,    0,    0]], dtype=torch.int32))\n",
      "(tensor([1, 2, 1, 1, 1, 1, 1, 2, 2, 1, 1, 1, 2, 1, 1, 1, 1, 1, 2, 2, 2, 1, 2, 2,\n",
      "        1, 2, 1, 1, 2, 2, 1, 2, 1, 1, 2, 1, 1, 2, 1, 1, 1, 2, 1, 2, 2, 2, 1, 2,\n",
      "        1, 2, 1, 2, 2, 1, 1, 2, 2, 1, 1, 1, 2, 2, 1, 2]), tensor([[ 457,   63,  545,  ...,    0,    0,    0],\n",
      "        [  13, 5630,   22,  ...,    0,    0,    0],\n",
      "        [  13,   20,    9,  ...,    0,    0,    0],\n",
      "        ...,\n",
      "        [  11,    1,  639,  ...,    0,    0,    0],\n",
      "        [ 156,   12,   82,  ...,    0,    0,    0],\n",
      "        [3884,   11,    1,  ...,    0,    0,    0]], dtype=torch.int32))\n"
     ]
    }
   ],
   "source": [
    "i = 0\n",
    "for batch in train_data_loader:\n",
    "    if i > 10:\n",
    "        break\n",
    "    i += 1\n",
    "    print(batch)"
   ]
  },
  {
   "cell_type": "code",
   "execution_count": null,
   "metadata": {},
   "outputs": [],
   "source": []
  }
 ],
 "metadata": {
  "kernelspec": {
   "display_name": "Python 3 (ipykernel)",
   "language": "python",
   "name": "python3"
  },
  "language_info": {
   "codemirror_mode": {
    "name": "ipython",
    "version": 3
   },
   "file_extension": ".py",
   "mimetype": "text/x-python",
   "name": "python",
   "nbconvert_exporter": "python",
   "pygments_lexer": "ipython3",
   "version": "3.11.7"
  }
 },
 "nbformat": 4,
 "nbformat_minor": 5
}
