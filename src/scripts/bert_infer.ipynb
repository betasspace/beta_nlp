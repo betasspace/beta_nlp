{
 "cells": [
  {
   "cell_type": "code",
   "execution_count": 1,
   "id": "004b3d9b-6da7-4e97-accb-a3ad4f75096c",
   "metadata": {},
   "outputs": [
    {
     "name": "stderr",
     "output_type": "stream",
     "text": [
      "/opt/conda/lib/python3.11/site-packages/torch/cuda/__init__.py:611: UserWarning: Can't initialize NVML\n",
      "  warnings.warn(\"Can't initialize NVML\")\n"
     ]
    }
   ],
   "source": [
    "import json \n",
    "import os\n",
    "\n",
    "from transformers import BertTokenizerFast, BertConfig, BertForMaskedLM, DataCollatorForLanguageModeling, Trainer, TrainingArguments\n",
    "from transformers import pipeline\n",
    "from tokenizers import BertWordPieceTokenizer\n",
    "from datasets import concatenate_datasets, load_dataset, load_from_disk"
   ]
  },
  {
   "cell_type": "code",
   "execution_count": 10,
   "id": "873d253e-a54a-4b67-9aa4-14d7a7ffcf9b",
   "metadata": {},
   "outputs": [
    {
     "name": "stdout",
     "output_type": "stream",
     "text": [
      "today's most trending hashtags on this is donald trump, confidence: 0.13775648176670074\n",
      "today's most trending hashtags on what is donald trump, confidence: 0.11843118071556091\n",
      "today's most trending hashtags on it is donald trump, confidence: 0.04629424586892128\n",
      "today's most trending hashtags on me is donald trump, confidence: 0.04463094845414162\n",
      "today's most trending hashtags on that is donald trump, confidence: 0.029833609238266945\n",
      "today's most trending hashtags on earth is donald trump, confidence: 0.028545547276735306\n",
      "today's most trending hashtags on here is donald trump, confidence: 0.02593948505818844\n",
      "today's most trending hashtags on which is donald trump, confidence: 0.024302156642079353\n",
      "today's most trending hashtags on her is donald trump, confidence: 0.019733335822820663\n",
      "today's most trending hashtags on, is donald trump, confidence: 0.019710538908839226\n",
      "today's most trending hashtags on you is donald trump, confidence: 0.018586663529276848\n",
      "today's most trending hashtags on there is donald trump, confidence: 0.01411436963826418\n",
      "today's most trending hashtags on one is donald trump, confidence: 0.009746617637574673\n",
      "today's most trending hashtags on him is donald trump, confidence: 0.008782020770013332\n",
      "today's most trending hashtags on how is donald trump, confidence: 0.008735248818993568\n",
      "==================================================\n",
      "the night was cloudy yesterday, but today it's rainy., confidence: 0.0808943510055542\n",
      "the room was cloudy yesterday, but today it's rainy., confidence: 0.04984050989151001\n",
      "the day was cloudy yesterday, but today it's rainy., confidence: 0.044864654541015625\n",
      "the house was cloudy yesterday, but today it's rainy., confidence: 0.020110469311475754\n",
      "the time was cloudy yesterday, but today it's rainy., confidence: 0.019930928945541382\n",
      "the news was cloudy yesterday, but today it's rainy., confidence: 0.01199923176318407\n",
      "the air was cloudy yesterday, but today it's rainy., confidence: 0.011082161217927933\n",
      "the sun was cloudy yesterday, but today it's rainy., confidence: 0.010755426250398159\n",
      "the place was cloudy yesterday, but today it's rainy., confidence: 0.008963692933321\n",
      "the world was cloudy yesterday, but today it's rainy., confidence: 0.008819612674415112\n",
      "the evening was cloudy yesterday, but today it's rainy., confidence: 0.008222315460443497\n",
      "the conversation was cloudy yesterday, but today it's rainy., confidence: 0.008043378591537476\n",
      "the game was cloudy yesterday, but today it's rainy., confidence: 0.00793627742677927\n",
      "the show was cloudy yesterday, but today it's rainy., confidence: 0.007860508747398853\n",
      "the morning was cloudy yesterday, but today it's rainy., confidence: 0.007364548277109861\n",
      "==================================================\n"
     ]
    }
   ],
   "source": [
    "model_path = \"/home/tom/fsas/pretrained-bert\"\n",
    "# load the model checkpoint\n",
    "model = BertForMaskedLM.from_pretrained(os.path.join(model_path, \"checkpoint-50000\")) # load the tokenizer\n",
    "tokenizer = BertTokenizerFast.from_pretrained(model_path)\n",
    "fill_mask = pipeline(\"fill-mask\", model=model, tokenizer=tokenizer)\n",
    "# perform predictions\n",
    "examples = [\n",
    "  \"Today's most trending hashtags on [MASK] is Donald Trump\",\n",
    "  \"The [MASK] was cloudy yesterday, but today it's rainy.\",\n",
    "]\n",
    "for example in examples:\n",
    "    for prediction in fill_mask(example, top_k=15):\n",
    "        print(f\"{prediction['sequence']}, confidence: {prediction['score']}\")\n",
    "    print(\"=\"*50)"
   ]
  },
  {
   "cell_type": "code",
   "execution_count": 11,
   "id": "a2fb7342-1861-4d02-bd49-e6f6ac793127",
   "metadata": {},
   "outputs": [
    {
     "name": "stdout",
     "output_type": "stream",
     "text": [
      "today's most trending hashtags on it is donald trump, confidence: 0.09677866846323013\n",
      "today's most trending hashtags on earth is donald trump, confidence: 0.06195252388715744\n",
      "today's most trending hashtags on what is donald trump, confidence: 0.039923734962940216\n",
      "today's most trending hashtags on this is donald trump, confidence: 0.033526960760354996\n",
      "today's most trending hashtags on twitter is donald trump, confidence: 0.026819609105587006\n",
      "today's most trending hashtags on me is donald trump, confidence: 0.025722233578562737\n",
      "today's most trending hashtags on campus is donald trump, confidence: 0.02148190513253212\n",
      "today's most trending hashtags on us is donald trump, confidence: 0.021201616153120995\n",
      "today's most trending hashtags on board is donald trump, confidence: 0.020306486636400223\n",
      "today's most trending hashtags on them is donald trump, confidence: 0.017977386713027954\n",
      "today's most trending hashtags on you is donald trump, confidence: 0.016781147569417953\n",
      "today's most trending hashtags on him is donald trump, confidence: 0.010600070469081402\n",
      "today's most trending hashtags on which is donald trump, confidence: 0.010101855732500553\n",
      "today's most trending hashtags on youtube is donald trump, confidence: 0.010039573535323143\n",
      "today's most trending hashtags on that is donald trump, confidence: 0.008983191102743149\n",
      "==================================================\n",
      "the day was cloudy yesterday, but today it's rainy., confidence: 0.06932730972766876\n",
      "the weather was cloudy yesterday, but today it's rainy., confidence: 0.06558866053819656\n",
      "the night was cloudy yesterday, but today it's rainy., confidence: 0.06095185503363609\n",
      "the sun was cloudy yesterday, but today it's rainy., confidence: 0.05259883403778076\n",
      "the place was cloudy yesterday, but today it's rainy., confidence: 0.03610150143504143\n",
      "the morning was cloudy yesterday, but today it's rainy., confidence: 0.021150613203644753\n",
      "the afternoon was cloudy yesterday, but today it's rainy., confidence: 0.020784491673111916\n",
      "the house was cloudy yesterday, but today it's rainy., confidence: 0.020040396600961685\n",
      "the rain was cloudy yesterday, but today it's rainy., confidence: 0.016308987513184547\n",
      "the sky was cloudy yesterday, but today it's rainy., confidence: 0.01585548184812069\n",
      "the evening was cloudy yesterday, but today it's rainy., confidence: 0.015267543494701385\n",
      "the world was cloudy yesterday, but today it's rainy., confidence: 0.014441977255046368\n",
      "the room was cloudy yesterday, but today it's rainy., confidence: 0.01121339201927185\n",
      "the game was cloudy yesterday, but today it's rainy., confidence: 0.008875884115695953\n",
      "the time was cloudy yesterday, but today it's rainy., confidence: 0.007824137806892395\n",
      "==================================================\n"
     ]
    }
   ],
   "source": [
    "model_path = \"/home/tom/fsas/pretrained-bert\"\n",
    "# load the model checkpoint\n",
    "model = BertForMaskedLM.from_pretrained(os.path.join(model_path, \"checkpoint-100000\")) # load the tokenizer\n",
    "tokenizer = BertTokenizerFast.from_pretrained(model_path)\n",
    "fill_mask = pipeline(\"fill-mask\", model=model, tokenizer=tokenizer)\n",
    "# perform predictions\n",
    "examples = [\n",
    "  \"Today's most trending hashtags on [MASK] is Donald Trump\",\n",
    "  \"The [MASK] was cloudy yesterday, but today it's rainy.\",\n",
    "]\n",
    "for example in examples:\n",
    "    for prediction in fill_mask(example, top_k=15):\n",
    "        print(f\"{prediction['sequence']}, confidence: {prediction['score']}\")\n",
    "    print(\"=\"*50)"
   ]
  },
  {
   "cell_type": "code",
   "execution_count": 12,
   "id": "743b05df-8813-455d-b2ac-342bbfae4cac",
   "metadata": {},
   "outputs": [
    {
     "name": "stdout",
     "output_type": "stream",
     "text": [
      "today's most trending hashtags on me is donald trump, confidence: 0.1279304474592209\n",
      "today's most trending hashtags on you is donald trump, confidence: 0.10246286541223526\n",
      "today's most trending hashtags on it is donald trump, confidence: 0.05083553120493889\n",
      "today's most trending hashtags on him is donald trump, confidence: 0.03847973421216011\n",
      "today's most trending hashtags on this is donald trump, confidence: 0.03704096004366875\n",
      "today's most trending hashtags on us is donald trump, confidence: 0.03482601046562195\n",
      "today's most trending hashtags on campus is donald trump, confidence: 0.022337695583701134\n",
      "today's most trending hashtags on earth is donald trump, confidence: 0.01814097724854946\n",
      "today's most trending hashtags on them is donald trump, confidence: 0.014022025279700756\n",
      "today's most trending hashtags on that is donald trump, confidence: 0.013421707786619663\n",
      "today's most trending hashtags on what is donald trump, confidence: 0.01229462306946516\n",
      "today's most trending hashtags on her is donald trump, confidence: 0.01173397246748209\n",
      "today's most trending hashtags on which is donald trump, confidence: 0.010892645455896854\n",
      "today's most trending hashtags on today is donald trump, confidence: 0.010249701328575611\n",
      "today's most trending hashtags on television is donald trump, confidence: 0.00947769358754158\n",
      "==================================================\n",
      "the sun was cloudy yesterday, but today it's rainy., confidence: 0.25806012749671936\n",
      "the weather was cloudy yesterday, but today it's rainy., confidence: 0.15302656590938568\n",
      "the air was cloudy yesterday, but today it's rainy., confidence: 0.09865355491638184\n",
      "the day was cloudy yesterday, but today it's rainy., confidence: 0.06383319944143295\n",
      "the sky was cloudy yesterday, but today it's rainy., confidence: 0.05961773544549942\n",
      "the night was cloudy yesterday, but today it's rainy., confidence: 0.0544917993247509\n",
      "the rain was cloudy yesterday, but today it's rainy., confidence: 0.03154095262289047\n",
      "the snow was cloudy yesterday, but today it's rainy., confidence: 0.026161862537264824\n",
      "the afternoon was cloudy yesterday, but today it's rainy., confidence: 0.024168210104107857\n",
      "the morning was cloudy yesterday, but today it's rainy., confidence: 0.022358717396855354\n",
      "the evening was cloudy yesterday, but today it's rainy., confidence: 0.012352167628705502\n",
      "the storm was cloudy yesterday, but today it's rainy., confidence: 0.009883463382720947\n",
      "the winter was cloudy yesterday, but today it's rainy., confidence: 0.007741726003587246\n",
      "the moon was cloudy yesterday, but today it's rainy., confidence: 0.007589660119265318\n",
      "the wind was cloudy yesterday, but today it's rainy., confidence: 0.007549134083092213\n",
      "==================================================\n"
     ]
    }
   ],
   "source": [
    "model_path = \"/home/tom/fsas/pretrained-bert\"\n",
    "# load the model checkpoint\n",
    "model = BertForMaskedLM.from_pretrained(os.path.join(model_path, \"checkpoint-200000\")) # load the tokenizer\n",
    "tokenizer = BertTokenizerFast.from_pretrained(model_path)\n",
    "fill_mask = pipeline(\"fill-mask\", model=model, tokenizer=tokenizer)\n",
    "# perform predictions\n",
    "examples = [\n",
    "  \"Today's most trending hashtags on [MASK] is Donald Trump\",\n",
    "  \"The [MASK] was cloudy yesterday, but today it's rainy.\",\n",
    "]\n",
    "for example in examples:\n",
    "    for prediction in fill_mask(example, top_k=15):\n",
    "        print(f\"{prediction['sequence']}, confidence: {prediction['score']}\")\n",
    "    print(\"=\"*50)"
   ]
  },
  {
   "cell_type": "code",
   "execution_count": 15,
   "id": "49b85752-50b6-4284-badb-ed12b107b4bd",
   "metadata": {},
   "outputs": [
    {
     "name": "stdout",
     "output_type": "stream",
     "text": [
      "today's most trending hashtags on earth is donald trump, confidence: 0.3024185001850128\n",
      "today's most trending hashtags on campus is donald trump, confidence: 0.09208276122808456\n",
      "today's most trending hashtags on me is donald trump, confidence: 0.02826645039021969\n",
      "today's most trending hashtags on it is donald trump, confidence: 0.02487933821976185\n",
      "today's most trending hashtags on you is donald trump, confidence: 0.024783819913864136\n",
      "today's most trending hashtags on him is donald trump, confidence: 0.01718263141810894\n",
      "today's most trending hashtags on board is donald trump, confidence: 0.01705033704638481\n",
      "today's most trending hashtags on this is donald trump, confidence: 0.016802668571472168\n",
      "today's most trending hashtags on tv is donald trump, confidence: 0.015306382440030575\n",
      "today's most trending hashtags on monday is donald trump, confidence: 0.010836515575647354\n",
      "today's most trending hashtags on today is donald trump, confidence: 0.0108171496540308\n",
      "today's most trending hashtags on that is donald trump, confidence: 0.010710496455430984\n",
      "today's most trending hashtags on paper is donald trump, confidence: 0.010323194786906242\n",
      "today's most trending hashtags on us is donald trump, confidence: 0.009662589989602566\n",
      "today's most trending hashtags on television is donald trump, confidence: 0.006879393942654133\n",
      "==================================================\n",
      "the day was cloudy yesterday, but today it's rainy., confidence: 0.2570260763168335\n",
      "the sun was cloudy yesterday, but today it's rainy., confidence: 0.1319773942232132\n",
      "the morning was cloudy yesterday, but today it's rainy., confidence: 0.07024310529232025\n",
      "the night was cloudy yesterday, but today it's rainy., confidence: 0.06599433720111847\n",
      "the weather was cloudy yesterday, but today it's rainy., confidence: 0.05622529983520508\n",
      "the sky was cloudy yesterday, but today it's rainy., confidence: 0.04747934266924858\n",
      "the rain was cloudy yesterday, but today it's rainy., confidence: 0.04114025458693504\n",
      "the snow was cloudy yesterday, but today it's rainy., confidence: 0.03853907808661461\n",
      "the evening was cloudy yesterday, but today it's rainy., confidence: 0.03289911895990372\n",
      "the afternoon was cloudy yesterday, but today it's rainy., confidence: 0.03283119574189186\n",
      "the air was cloudy yesterday, but today it's rainy., confidence: 0.012638278305530548\n",
      "the place was cloudy yesterday, but today it's rainy., confidence: 0.009712942875921726\n",
      "the moon was cloudy yesterday, but today it's rainy., confidence: 0.006366593763232231\n",
      "the season was cloudy yesterday, but today it's rainy., confidence: 0.005983517039567232\n",
      "the hour was cloudy yesterday, but today it's rainy., confidence: 0.005785143934190273\n",
      "==================================================\n"
     ]
    }
   ],
   "source": [
    "model_path = \"/home/tom/fsas/pretrained-bert\"\n",
    "# load the model checkpoint\n",
    "model = BertForMaskedLM.from_pretrained(os.path.join(model_path, \"checkpoint-300000\")) # load the tokenizer\n",
    "tokenizer = BertTokenizerFast.from_pretrained(model_path)\n",
    "fill_mask = pipeline(\"fill-mask\", model=model, tokenizer=tokenizer)\n",
    "# perform predictions\n",
    "examples = [\n",
    "  \"Today's most trending hashtags on [MASK] is Donald Trump\",\n",
    "  \"The [MASK] was cloudy yesterday, but today it's rainy.\",\n",
    "]\n",
    "for example in examples:\n",
    "    for prediction in fill_mask(example, top_k=15):\n",
    "        print(f\"{prediction['sequence']}, confidence: {prediction['score']}\")\n",
    "    print(\"=\"*50)"
   ]
  },
  {
   "cell_type": "code",
   "execution_count": 13,
   "id": "f0ba7147-ee4c-4459-bc46-019740d7a77a",
   "metadata": {},
   "outputs": [
    {
     "name": "stdout",
     "output_type": "stream",
     "text": [
      "today's most trending hashtags on earth is donald trump, confidence: 0.1535073220729828\n",
      "today's most trending hashtags on campus is donald trump, confidence: 0.08408479392528534\n",
      "today's most trending hashtags on tv is donald trump, confidence: 0.035158418118953705\n",
      "today's most trending hashtags on friday is donald trump, confidence: 0.03155885636806488\n",
      "today's most trending hashtags on me is donald trump, confidence: 0.025260599330067635\n",
      "today's most trending hashtags on board is donald trump, confidence: 0.02145429328083992\n",
      "today's most trending hashtags on paper is donald trump, confidence: 0.019202327355742455\n",
      "today's most trending hashtags on it is donald trump, confidence: 0.017973560839891434\n",
      "today's most trending hashtags on today is donald trump, confidence: 0.016663124784827232\n",
      "today's most trending hashtags on this is donald trump, confidence: 0.01566978543996811\n",
      "today's most trending hashtags on monday is donald trump, confidence: 0.015103232115507126\n",
      "today's most trending hashtags on twitter is donald trump, confidence: 0.014752056449651718\n",
      "today's most trending hashtags on facebook is donald trump, confidence: 0.01287352666258812\n",
      "today's most trending hashtags on him is donald trump, confidence: 0.012653115205466747\n",
      "today's most trending hashtags on television is donald trump, confidence: 0.012293346226215363\n",
      "==================================================\n",
      "the sun was cloudy yesterday, but today it's rainy., confidence: 0.21406453847885132\n",
      "the day was cloudy yesterday, but today it's rainy., confidence: 0.14815180003643036\n",
      "the sky was cloudy yesterday, but today it's rainy., confidence: 0.1370968371629715\n",
      "the weather was cloudy yesterday, but today it's rainy., confidence: 0.13052959740161896\n",
      "the night was cloudy yesterday, but today it's rainy., confidence: 0.05524004250764847\n",
      "the morning was cloudy yesterday, but today it's rainy., confidence: 0.0426882728934288\n",
      "the afternoon was cloudy yesterday, but today it's rainy., confidence: 0.028161434456706047\n",
      "the evening was cloudy yesterday, but today it's rainy., confidence: 0.025832243263721466\n",
      "the air was cloudy yesterday, but today it's rainy., confidence: 0.018017353489995003\n",
      "the snow was cloudy yesterday, but today it's rainy., confidence: 0.01749718375504017\n",
      "the rain was cloudy yesterday, but today it's rainy., confidence: 0.01393907144665718\n",
      "the moon was cloudy yesterday, but today it's rainy., confidence: 0.011929299682378769\n",
      "the road was cloudy yesterday, but today it's rainy., confidence: 0.00712628336623311\n",
      "the hour was cloudy yesterday, but today it's rainy., confidence: 0.00626240624114871\n",
      "the street was cloudy yesterday, but today it's rainy., confidence: 0.005040830001235008\n",
      "==================================================\n"
     ]
    }
   ],
   "source": [
    "model = BertForMaskedLM.from_pretrained(os.path.join(model_path, \"checkpoint-520000\")) # load the tokenizer\n",
    "tokenizer = BertTokenizerFast.from_pretrained(model_path)\n",
    "fill_mask = pipeline(\"fill-mask\", model=model, tokenizer=tokenizer)\n",
    "# perform predictions\n",
    "examples = [\n",
    "  \"Today's most trending hashtags on [MASK] is Donald Trump\",\n",
    "  \"The [MASK] was cloudy yesterday, but today it's rainy.\",\n",
    "]\n",
    "for example in examples:\n",
    "    for prediction in fill_mask(example, top_k=15):\n",
    "        print(f\"{prediction['sequence']}, confidence: {prediction['score']}\")\n",
    "    print(\"=\"*50)"
   ]
  },
  {
   "cell_type": "code",
   "execution_count": null,
   "id": "99cdeca0-4334-428d-93ad-da35564f2950",
   "metadata": {},
   "outputs": [],
   "source": []
  },
  {
   "cell_type": "code",
   "execution_count": null,
   "id": "df0a5015-85da-4d0b-bab5-d10fee21c16a",
   "metadata": {},
   "outputs": [],
   "source": []
  }
 ],
 "metadata": {
  "kernelspec": {
   "display_name": "Python 3 (ipykernel)",
   "language": "python",
   "name": "python3"
  },
  "language_info": {
   "codemirror_mode": {
    "name": "ipython",
    "version": 3
   },
   "file_extension": ".py",
   "mimetype": "text/x-python",
   "name": "python",
   "nbconvert_exporter": "python",
   "pygments_lexer": "ipython3",
   "version": "3.11.7"
  }
 },
 "nbformat": 4,
 "nbformat_minor": 5
}
