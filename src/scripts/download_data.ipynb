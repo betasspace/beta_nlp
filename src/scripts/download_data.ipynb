{
 "cells": [
  {
   "cell_type": "code",
   "execution_count": null,
   "metadata": {},
   "outputs": [],
   "source": [
    "from datasets import concatenate_datasets, load_dataset"
   ]
  },
  {
   "cell_type": "code",
   "execution_count": null,
   "metadata": {},
   "outputs": [],
   "source": [
    "ds = load_dataset(\"wangrui6/Zhihu-KOL\", split=\"train\")\n",
    "ds.save_to_disk('/Users/bytedance/workspace/test/multi_gpu/dataset/Zhihu-KOL')\n",
    "\n",
    "ds = load_dataset(\"xuqinyang/BaiduBaike-5.63M\", split=\"train\")\n",
    "ds.save_to_disk('/Users/bytedance/workspace/test/multi_gpu/dataset/BaiduBaike')\n",
    "\n",
    "ds = load_dataset(\"zhengr/zhihu\", split=\"train\")\n",
    "ds.save_to_disk('/Users/bytedance/workspace/test/multi_gpu/dataset/zhihu_qa')"
   ]
  },
  {
   "cell_type": "code",
   "execution_count": null,
   "metadata": {},
   "outputs": [],
   "source": [
    "ds = load_dataset(\"wikimedia/wikipedia\", \"20231101.zh\")\n",
    "ds.save_to_disk('/Users/bytedance/workspace/test/multi_gpu/dataset/wikipedia')"
   ]
  }
 ],
 "metadata": {
  "kernelspec": {
   "display_name": "base",
   "language": "python",
   "name": "python3"
  },
  "language_info": {
   "name": "python",
   "version": "3.11.7"
  }
 },
 "nbformat": 4,
 "nbformat_minor": 2
}
